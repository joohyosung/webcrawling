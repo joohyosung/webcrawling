{
 "cells": [
  {
   "cell_type": "code",
   "execution_count": 10,
   "metadata": {},
   "outputs": [
    {
     "name": "stdout",
     "output_type": "stream",
     "text": [
      "1 A005930 삼성전자 61700\n",
      "2 A019170 신풍제약 31100\n",
      "3 A035720 카카오 57300\n",
      "4 A323410 카카오뱅크 27950\n",
      "5 A034020 두산에너빌리티 16950\n",
      "6 A249420 일동제약 34750\n",
      "7 A001570 금양 29850\n",
      "8 A373220 LG에너지솔루션 588000\n",
      "9 A001440 대한전선 1840\n",
      "10 A215600 신라젠 9470\n"
     ]
    }
   ],
   "source": [
    "import requests\n",
    "import json\n",
    "\n",
    "# header 옵션\n",
    "header = {\n",
    "    'User-Agent' : 'Mozila/5.0',\n",
    "    'referer' : 'https://finance.daum.net/' # Requests Header에서 찾기\n",
    "}\n",
    "\n",
    "# 인기 검색 10위 데이터 Ajax 요청 찾기  \n",
    "response = requests.get(\"https://finance.daum.net/api/search/ranks?limit=10\", headers=header)\n",
    "\n",
    "# 데이터 추출\n",
    "data = json.loads(response.text)\n",
    "infos = data['data']\n",
    "\n",
    "for info in infos:\n",
    "    rank = info['rank']\n",
    "    code = info['symbolCode']\n",
    "    name = info['name']\n",
    "    price = info['tradePrice']\n",
    "    print(rank, code, name, price)"
   ]
  },
  {
   "cell_type": "code",
   "execution_count": null,
   "metadata": {},
   "outputs": [],
   "source": []
  }
 ],
 "metadata": {
  "kernelspec": {
   "display_name": "Python 3.10.6 64-bit",
   "language": "python",
   "name": "python3"
  },
  "language_info": {
   "codemirror_mode": {
    "name": "ipython",
    "version": 3
   },
   "file_extension": ".py",
   "mimetype": "text/x-python",
   "name": "python",
   "nbconvert_exporter": "python",
   "pygments_lexer": "ipython3",
   "version": "3.10.6"
  },
  "orig_nbformat": 4,
  "vscode": {
   "interpreter": {
    "hash": "200fa5d0b2981d58b1f27a61a10a35692b9d56d91ef977d0357ac52583da061d"
   }
  }
 },
 "nbformat": 4,
 "nbformat_minor": 2
}
