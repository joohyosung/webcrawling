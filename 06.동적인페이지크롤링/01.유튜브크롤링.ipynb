{
 "cells": [
  {
   "cell_type": "code",
   "execution_count": 2,
   "metadata": {},
   "outputs": [
    {
     "ename": "AttributeError",
     "evalue": "'NoneType' object has no attribute 'text'",
     "output_type": "error",
     "traceback": [
      "\u001b[1;31m---------------------------------------------------------------------------\u001b[0m",
      "\u001b[1;31mAttributeError\u001b[0m                            Traceback (most recent call last)",
      "\u001b[1;32mc:\\k-digital4\\06.동적인페이지크롤링\\01.유튜브크롤링.ipynb 셀 1\u001b[0m in \u001b[0;36m<cell line: 12>\u001b[1;34m()\u001b[0m\n\u001b[0;32m      <a href='vscode-notebook-cell:/c%3A/k-digital4/06.%EB%8F%99%EC%A0%81%EC%9D%B8%ED%8E%98%EC%9D%B4%EC%A7%80%ED%81%AC%EB%A1%A4%EB%A7%81/01.%EC%9C%A0%ED%8A%9C%EB%B8%8C%ED%81%AC%EB%A1%A4%EB%A7%81.ipynb#W0sZmlsZQ%3D%3D?line=8'>9</a>\u001b[0m html \u001b[39m=\u001b[39m response\u001b[39m.\u001b[39mtext\n\u001b[0;32m     <a href='vscode-notebook-cell:/c%3A/k-digital4/06.%EB%8F%99%EC%A0%81%EC%9D%B8%ED%8E%98%EC%9D%B4%EC%A7%80%ED%81%AC%EB%A1%A4%EB%A7%81/01.%EC%9C%A0%ED%8A%9C%EB%B8%8C%ED%81%AC%EB%A1%A4%EB%A7%81.ipynb#W0sZmlsZQ%3D%3D?line=9'>10</a>\u001b[0m soup \u001b[39m=\u001b[39m BeautifulSoup(html, \u001b[39m'\u001b[39m\u001b[39mhtml.parser\u001b[39m\u001b[39m'\u001b[39m)\n\u001b[1;32m---> <a href='vscode-notebook-cell:/c%3A/k-digital4/06.%EB%8F%99%EC%A0%81%EC%9D%B8%ED%8E%98%EC%9D%B4%EC%A7%80%ED%81%AC%EB%A1%A4%EB%A7%81/01.%EC%9C%A0%ED%8A%9C%EB%B8%8C%ED%81%AC%EB%A1%A4%EB%A7%81.ipynb#W0sZmlsZQ%3D%3D?line=11'>12</a>\u001b[0m soup\u001b[39m.\u001b[39;49mselect_one(\u001b[39m\"\u001b[39;49m\u001b[39m#video-title > yt-formatted-string\u001b[39;49m\u001b[39m\"\u001b[39;49m)\u001b[39m.\u001b[39;49mtext\n",
      "\u001b[1;31mAttributeError\u001b[0m: 'NoneType' object has no attribute 'text'"
     ]
    }
   ],
   "source": [
    "# 첫번째 영상의 제목 크롤링\n",
    "# requests, bs4로 해보기\n",
    "\n",
    "import requests\n",
    "from bs4 import BeautifulSoup\n",
    "\n",
    "response = requests.get(\"https://www.youtube.com/results?search_query=%EC%8A%A4%ED%83%80%ED%8A%B8%EC%BD%94%EB%94%A9\")\n",
    "\n",
    "html = response.text\n",
    "soup = BeautifulSoup(html, 'html.parser')\n",
    "\n",
    "soup.select_one(\"#video-title > yt-formatted-string\").text"
   ]
  },
  {
   "cell_type": "code",
   "execution_count": 11,
   "metadata": {},
   "outputs": [
    {
     "name": "stderr",
     "output_type": "stream",
     "text": [
      "C:\\Users\\startcoding\\AppData\\Local\\Temp\\ipykernel_3944\\507210457.py:6: DeprecationWarning: executable_path has been deprecated, please pass in a Service object\n",
      "  driver = webdriver.Chrome(\"c://chromedriver.exe\")\n"
     ]
    },
    {
     "name": "stdout",
     "output_type": "stream",
     "text": [
      "부업으로 하루 10만원, '이것'만 해도 충분합니다. 조회수 1.2만회 5일 전\n",
      "돈 버는 법 조회수 40만회 2개월 전\n",
      "[북콘서트] 최상위 부자가 알려주는 돈 버는 방법 (돈의속성 | 빠르게 실패하기) 조회수 10만회 4개월 전\n",
      "3개월만 이렇게 해보면 어떻게 돈 벌어야 할지 답이 나옵니다 (고명환) 조회수 22만회 4주 전\n",
      "쌍둥이만 할 수 있는 돈 버는 방법 ㅋㅋㅋㅋㅋㅋㅋㅋㅋㅋㅋㅋㅋㅋ 조회수 12만회 3일 전\n",
      "이대로 따라만하면 초등학생도 월 100만 원 벌 수 있습니다 조회수 19만회 2개월 전\n",
      "어그로 아니고, 스마트폰 하나로 방구석에서 월천만원 버는 방법 알려드립니다, 재능도 필요 없고 자본도 필요 없습니다. 노력도 필요 없어요 안 하면 후회 | 유튜브 개쉽게 하는 방법 조회수 14만회 1개월 전\n",
      "빨리 시작할수록 이득입니다. 쉽게 돈 버는 재택부업 best 5 지금 바로 시작하세요! 조회수 12만회 2개월 전\n",
      "가난한 사람들의 3가지 습관, 부자되는법, 돈버는방법(제이원) 조회수 3천회 1일 전\n",
      "200억 자산가가 2040에게 알려주는 지금 돈버는 방법 조회수 1.4만회 4주 전\n",
      "고딩이 알아낸 폰만 사용해서 돈버는법🔥🔥 역대급 재택부업으로 추천드립니다!! 커넥트 채널 조회수 1.7만회 1개월 전\n",
      "돈 버는법에 대한 한국인들의 '치명적인' 착각 (이영주 대표 1부) 조회수 2.4만회 3일 전\n",
      "학생이 방구석에서 단 1일만에 15만원 버는법🔥🔥 돈버는법 돈버는법학생 재택부업 직장인부업 돈버는방법 조회수 7.6만회 1개월 전\n",
      "나는 부자들의 '이것들'을 보고 돈을 더 벌기 시작했다 (前신사임당 주언규) 조회수 85만회 1개월 전\n",
      "망한 모텔 사서 한 달에 4천만원 버는 38살 사장님 조회수 212만회 1개월 전\n",
      "성공하고 싶다면 목숨 걸고 이 원칙을 지켜라 (좋은 기업을 넘어 위대한 기업으로) [주언규의 돈버는 생각] 조회수 26만회 5개월 전\n",
      "50대에 시작해 1년 6개월 만에 25억 자산가 된 주부 조회수 68만회 8개월 전\n",
      "월 천만 원, 20대가 0원으로 버는 방법 (왜 아무도 안 할까..?) 조회수 29만회 7개월 전\n",
      "하루 30분! 부업으로 월 200만원 돈버는 새로운 방법! 수익 인증! (나이 학력 무관! 누구나 당장 시작 가능해요) ft.칼퇴의기술 조회수 10만회 3개월 전\n",
      "스마트폰 하나로 방구석에서 월500 버는 방법 // 무자본, 무노력, 무시간으로 지금 바로 가능합니다 조회수 6만회 1개월 전\n",
      "카카오뷰 그만, 퇴근 후 부업으로 집에서 하루 10만원 돈버는법! (눈 감고도 가능) 조회수 21만회 5개월 전\n",
      "집에서 부업으로 월 900만원 돈버는 새로운 방법! 수익 인증! (하루 2시간! 나이, 학력 무관! 휴대폰으로도 가능해요) ft.암사자 이경진 조회수 16만회 5개월 전\n",
      "5%만 알고 있는 쉽게 돈버는법, 꼭 보세요. 조회수 40만회 1년 전\n",
      "'돈 버는 법'에 대한 한국인들의 치명적인 착각 (前신사임당 주언규 1부 풀버전) 조회수 27만회 2개월 전\n",
      "이렇게만 하면 월 300만원은 법니다, 집에서 돈벌기 TOP7 부업으로 쉽게 버는 방법들로 공개합니다 조회수 25만회 8개월 전\n",
      "대한민국에서 제일 쉽게 돈버는 방법, 대량등록이 정답입니다 조회수 4.7만회 1개월 전\n",
      "돈버는 방법 알려주는 유튜버가 진짜 돈을 버는 방법 (feat.스마트스토어) 조회수 46만회 10개월 전\n",
      "가난한 사람들의 3가지 습관, 부자되는법, 돈버는방법(제이원) 조회수 3천회 1일 전\n",
      "200억 자산가가 2040에게 알려주는 지금 돈버는 방법 조회수 1.4만회 4주 전\n",
      "앱테크 그만, 휴대폰 하나로 부업해서 하루 15만원 버는법! (시간, 장소 상관X) 조회수 2.4만회 1개월 전\n",
      "하루 3분! 초간단 부업으로 용돈버는 법! (첫달 최대 60만원+매달 2만원 이상 돈 들어옴! 영상 보고 바로 따라해보세요) 조회수 7.6만회 1개월 전\n",
      "부업으로 월 300~600만원 돈버는 새로운 방법! (나이 학력 무관! 현재 1주일에 1시간 일하고 부수입 벌고 있어요) ft.김성공 조회수 8만회 2주 전\n",
      "집에서 부업으로 월 1000만원 돈버는 방법! (빨리 시작하세요!) 부업 노하우 숨겨진 비밀 공개 조회수 2.4만회 3주 전\n",
      "돈 한푼 안 들이고 집에서 쉽게 돈버는 방법 | 투잡은 이걸로 끝냅시다 조회수 8.7천회 1개월 전\n",
      "학생이 33일동안 10만원으로 220만원 버는법🔥🔥 돈버는법 돈버는법학생 직장인부업 재택부업 조회수 51만회 1년 전\n",
      "(1강) 유튜브 '구독자 0명' 채널로 가장 빠르게 돈버는 방법 조회수 9.9천회 6일 전\n",
      "알려주기 아까운 쉽게 돈 버는 법 조회수 9.7천회 1개월 전\n",
      "블로그 시작 1개월만에 40만원 번 방법 (꿀팁 많음, 2030 강추, 인증O) 조회수 123만회 1년 전\n",
      "돈 버는 법에 405만원 쓰고 깨달은 점 조회수 82만회 1년 전\n",
      "버핏이 들려주는 충격적인 사실. \"여러분이 알고 있는건 전부 틀렸습니다\" 조회수 9.8천회 1일 전\n",
      "반드시 부자 되는 3가지 원리!! 조회수 139만회 2년 전\n",
      "\"딱 100만원이면 돼요\" 70억 자산가의 무조건 돈 버는 달러투자 법칙 조회수 40만회 4개월 전\n",
      "내가 20대에 10억을 벌고 얻은 돈 버는 깨달음 조회수 3.6만회 5개월 전\n",
      "돈 걱정 없이 살고 싶다면? 지금 당장 월100만원 버는 3가지 방법 조회수 2.9천회 3일 전\n",
      "월급은 그대로라 돈들어갈 일 많다면 꼭 보세요, 따라하시면 최소 하루 15만원 더 법니다, 컴퓨터만 있으면 됩니다, 초보도 가능해요, feat. 영어공부도 하며 돈 벌기 조회수 4만회 8일 전\n",
      "외우기만 해도 돈 버는 패턴매매 코인으로 돈 버는 법 어렵지 않습니다. 조회수 1.3천회 2주 전\n",
      "스마트스토어 그만, 집에서 부업으로 하루 20만원 돈버는법 (오늘수익가능) 조회수 875회 6일 전\n",
      "1ㄷ1 맞짱 까서 돈 버는 법(이벤트) 조회수 30회 21시간 전\n",
      "영수증 재테크? 영수증으로 돈버는 법! ㅣ전직은행원이 알려주는 영수증 짠테크 비법 조회수 6.1만회 2년 전\n",
      "그들이 세계최고 부자가 된 이유 [돈버는법, 부자되는법] 조회수 61만회 3년 전\n",
      "집에서 돈벌기 30분만에 5만원 버는 방법, 왕초보도 쉽게 할 수 있도록 알려드립니다, 돈 벌려면 남들 다 하는걸 하면 안됩니다, feat. 전자책 표지 조회수 2.6만회 11일 전\n",
      "집에서 앉아서 돈버는법 새로운 부업 (뉴스픽 파트너스) 조회수 30만회 11개월 전\n",
      "돈이 복사가 된다고?! 돈버는법 3가지 공략! [포켓몬 레전드 아르세우스] 조회수 3.2만회 9개월 전\n",
      "가장 빠르게 부자가 되는 방법 (부의 추월차선) [주언규의 돈버는 생각] 조회수 52만회 7개월 전\n",
      "자본주의 10분만에 정복하기 조회수 58만회 6개월 전\n",
      "타르코프 돈벌기, 과연 어려울까? | 타르코프 | |돈버는 방법| 조회수 1.2만회 9개월 전\n",
      "돈 벌려면 반드시 이것 5가지를 하라 조회수 378만회 4년 전\n",
      "GTA5 차 팔아서 $20,000?! / 돈버는법 공략 조회수 8.4만회 2년 전\n",
      "고딩이 알아낸 폰만 사용해서 돈버는법🔥🔥 역대급 재택부업으로 추천드립니다!! 커넥트 채널 조회수 1.7만회 1개월 전\n",
      "유료강의 듣지 말고 블로그로 돈 버는 방법 이것만 보세요! 100% 경험기반 조회수 4.3만회 2개월 전\n",
      "돈이 저절로 찾아오게 하려면 이렇게 해보세요. 이 책은 돈 버는 법에 관한 이야기 돈|투자|재테크 @세상의 모든 책들 조회수 8천회 2주 전\n",
      "메이플 돈버는법 마일리로 돈버는법 다섯가지 조회수 1만회 1년 전\n",
      "블로그로 돈버는법 하루 20분만! 누구나 벌수 있다! 가장 현실적인 방법( 수익공개 ) 디지털노마드 조회수 29만회 2년 전\n",
      "더크루2 최신 돈버는법 꿀팁 경찰차 미션 조회수 4.9천회 1년 전\n",
      "산으로 돈 버는 법!!! 조회수 8.6만회 1년 전\n",
      "블로그로 연봉 1억 만드는 상위 1% 블로거 고급 컨설팅 \"그냥 이 영상으로 오픈할게요\" | 오애진(율마) 1부 조회수 7.5천회 1개월 전\n",
      "[#인기급상승] 돈 버는 법 어렵지 않다구요! 아.시.겠.어.요? 조회수 320만회 1개월 전\n",
      "자는동안에도 자동으로 돈버는법 부업 (더마르스 앱테크) 조회수 2.8만회 10개월 전\n",
      "문화상품권으로 돈버는법 | 상테크 재테크 | 닥터구구 조회수 5.3만회 2년 전\n",
      "돈 걱정 없이 살고 싶다면? 지금 당장 월100만원 버는 3가지 방법 조회수 2.9천회 3일 전\n",
      "인스타그램으로 돈버는법 3가지, 팔로워가 중요한게 아니라고요. 아.시.겠.어.요? #인스타그램 #마케팅 #디지털노마드 조회수 12만회 3년 전\n",
      "돈버는방법 영수증으로 네이버페이 벌기 2탄 조회수 1.2만회 10개월 전\n",
      "통장에 돈 들어오는 3가지 방법!! 오늘부터 걸을 때마다 돈 받으세요!! 바로 입금됩니다!! 조회수 10만회 3개월 전\n",
      "진짜 돈 벌고 싶은 분들만 보세요. 3가지 방법을 돈을 벌 수 있습니다. 하나씩 직접 해보세요. 조회수 1.8만회 3주 전\n",
      "단돈 500원으로 5만원 돈버는 방법 재택부업,학생돈벌기 강력추천!!! 돈버는법 학생 돈버는 직장인 투잡 알바 조회수 33만회 1년 전\n"
     ]
    }
   ],
   "source": [
    "from selenium import webdriver\n",
    "from selenium.webdriver.common.by import By\n",
    "from selenium.webdriver.common.keys import Keys\n",
    "import time\n",
    "\n",
    "driver = webdriver.Chrome(\"c://chromedriver.exe\")\n",
    "driver.get(\"https://www.youtube.com/results?search_query=%EB%8F%88%EB%B2%84%EB%8A%94%EB%B2%95\")\n",
    "time.sleep(2)\n",
    "\n",
    "# 스크롤 내리기\n",
    "for i in range(2):\n",
    "    driver.find_element(By.CSS_SELECTOR, \"body\").send_keys(Keys.END)\n",
    "    time.sleep(2)\n",
    "\n",
    "# 영상 정보를 담은 덩어리 가져오기\n",
    "infos = driver.find_elements(By.CSS_SELECTOR, \"div#meta\")\n",
    "\n",
    "for info in infos:\n",
    "    try:\n",
    "        title = info.find_element(By.CSS_SELECTOR, \"a#video-title\").text\n",
    "        views = info.find_element(By.CSS_SELECTOR, \"#metadata-line > span:nth-of-type(1)\").text\n",
    "        date = info.find_element(By.CSS_SELECTOR, \"#metadata-line > span:nth-of-type(2)\").text\n",
    "        print(title, views, date)\n",
    "    except:\n",
    "        pass"
   ]
  },
  {
   "cell_type": "code",
   "execution_count": null,
   "metadata": {},
   "outputs": [],
   "source": []
  }
 ],
 "metadata": {
  "kernelspec": {
   "display_name": "Python 3.10.6 64-bit",
   "language": "python",
   "name": "python3"
  },
  "language_info": {
   "codemirror_mode": {
    "name": "ipython",
    "version": 3
   },
   "file_extension": ".py",
   "mimetype": "text/x-python",
   "name": "python",
   "nbconvert_exporter": "python",
   "pygments_lexer": "ipython3",
   "version": "3.10.6"
  },
  "orig_nbformat": 4,
  "vscode": {
   "interpreter": {
    "hash": "200fa5d0b2981d58b1f27a61a10a35692b9d56d91ef977d0357ac52583da061d"
   }
  }
 },
 "nbformat": 4,
 "nbformat_minor": 2
}
