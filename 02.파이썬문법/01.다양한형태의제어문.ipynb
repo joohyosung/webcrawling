{
 "cells": [
  {
   "cell_type": "code",
   "execution_count": 4,
   "metadata": {},
   "outputs": [
    {
     "name": "stdout",
     "output_type": "stream",
     "text": [
      "수익 창출 가능\n"
     ]
    }
   ],
   "source": [
    "# 실습문제 24\n",
    "a = int(input('구독자 수를 입력하시오. : '))\n",
    "b = int(input('시청시간을 입력하시오. : '))\n",
    "\n",
    "if a > 1000 and b > 4000:\n",
    "    print('수익 창출 가능')\n",
    "else:\n",
    "    print('수익 창출 불가능')"
   ]
  },
  {
   "cell_type": "code",
   "execution_count": 18,
   "metadata": {},
   "outputs": [
    {
     "name": "stdout",
     "output_type": "stream",
     "text": [
      "숫자를 입력하시오.\n",
      "게임을 시작합니다.\n",
      "숫자를 입력하시오.\n",
      "실시간 랭킹\n",
      "숫자를 입력하시오.\n",
      "다시 입력해 주세요.\n",
      "숫자를 입력하시오.\n",
      "다시 입력해 주세요.\n",
      "숫자를 입력하시오.\n",
      "다시 입력해 주세요.\n",
      "숫자를 입력하시오.\n",
      "다시 입력해 주세요.\n",
      "숫자를 입력하시오.\n",
      "게임을 종료합니다.\n"
     ]
    }
   ],
   "source": [
    "# 실습문제 30\n",
    "while True:\n",
    "    print('숫자를 입력하시오.')\n",
    "    input_val = input('''\n",
    "                      1.게임 시작 2.실시간 랭킹 3.게임종료\n",
    "                      ''')\n",
    "    if input_val == '1':\n",
    "        print('게임을 시작합니다.')\n",
    "    elif input_val == '2':\n",
    "        print('실시간 랭킹')\n",
    "    elif input_val == '3':\n",
    "        print('게임을 종료합니다.')\n",
    "        break\n",
    "    else:\n",
    "        print('다시 입력해 주세요.')"
   ]
  },
  {
   "cell_type": "code",
   "execution_count": 1,
   "metadata": {},
   "outputs": [
    {
     "name": "stdout",
     "output_type": "stream",
     "text": [
      "잘못 입력됐습니다.\n",
      "잘못 입력됐습니다.\n",
      "UP!!!!!!!!!!!!!!!\n",
      "UP!!!!!!!!!!!!!!!\n",
      "UP!!!!!!!!!!!!!!!\n",
      "UP!!!!!!!!!!!!!!!\n",
      "UP!!!!!!!!!!!!!!!\n",
      "UP!!!!!!!!!!!!!!!\n",
      "UP!!!!!!!!!!!!!!!\n",
      "UP!!!!!!!!!!!!!!!\n",
      "정답!!!!!!!!!!!!!\n",
      "총 시도 획수 : 9\n"
     ]
    }
   ],
   "source": [
    "# 실습문제 31\n",
    "import random as rd\n",
    "\n",
    "# 1 - 100 사이 랜덤한 값 생성\n",
    "answer = rd.randint(1, 100)\n",
    "count = 1\n",
    "while True:\n",
    "    try:\n",
    "        input_Val = int(input('숫자를 입력하시오. : '))\n",
    "        \n",
    "        if answer > input_Val:\n",
    "            print('UP!!!!!!!!!!!!!!!')\n",
    "    \n",
    "        elif answer < input_Val:\n",
    "            print('DOWN!!!!!!!!!!!!!')\n",
    "    \n",
    "        elif answer == input_Val:\n",
    "            \n",
    "            print('정답!!!!!!!!!!!!!')\n",
    "            print(f'총 시도 획수 : {count}')\n",
    "            break\n",
    "        count += 1\n",
    "    except:\n",
    "        print(\"잘못 입력됐습니다.\")\n"
   ]
  },
  {
   "cell_type": "code",
   "execution_count": 1,
   "metadata": {},
   "outputs": [
    {
     "name": "stdout",
     "output_type": "stream",
     "text": [
      "\n",
      "         1.게임시작\n",
      "          2.실시간 랭킹\n",
      "          3.게임 종료\n",
      "           \n",
      "게임시작\n",
      "\n",
      "         1.게임시작\n",
      "          2.실시간 랭킹\n",
      "          3.게임 종료\n",
      "           \n",
      "실시간 랭킹\n",
      "\n",
      "         1.게임시작\n",
      "          2.실시간 랭킹\n",
      "          3.게임 종료\n",
      "           \n",
      "숫자를 다시 입력하시오.\n",
      "\n",
      "         1.게임시작\n",
      "          2.실시간 랭킹\n",
      "          3.게임 종료\n",
      "           \n",
      "게임을 종료합니다.\n"
     ]
    }
   ],
   "source": [
    "# 1 게임 시작 2 랭킹 3 게임종료(프로그램 종료) 그 외 숫자는 다시 입력하시오\n",
    "\n",
    "while True:\n",
    "    print('''\n",
    "        1.게임시작\n",
    "        2.실시간 랭킹\n",
    "        3.게임 종료\n",
    "           ''')\n",
    "    input_Val = int(input('숫자를 입력하시오.'))\n",
    "    if input_Val == 1:\n",
    "        print('게임시작')\n",
    "        \n",
    "    elif input_Val == 2:\n",
    "        print('실시간 랭킹')\n",
    "        \n",
    "    elif input_Val == 3:\n",
    "        print('게임을 종료합니다.')\n",
    "        break\n",
    "        \n",
    "    else:\n",
    "        print('숫자를 다시 입력하시오.')\n"
   ]
  },
  {
   "cell_type": "code",
   "execution_count": 7,
   "metadata": {},
   "outputs": [
    {
     "name": "stdout",
     "output_type": "stream",
     "text": [
      "\n",
      "              문자가 입력되었습니다.\n",
      "              \n",
      "\n",
      "              문자가 입력되었습니다.\n",
      "              \n",
      "\n",
      "                DOWN!!!!\n",
      "                \n",
      "\n",
      "                GameOver\n",
      "                \n"
     ]
    }
   ],
   "source": [
    "import random as rd\n",
    "random_Val = rd.randint(1, 100)\n",
    "count = 1\n",
    "while True:\n",
    "    try:\n",
    "        input_Val = int(input('''\n",
    "                            숫자를 입력하시오.\n",
    "                            '''))\n",
    "        if count == 8:\n",
    "            print('''\n",
    "                GameOver\n",
    "                ''')\n",
    "            break\n",
    "        elif input_Val > random_Val:\n",
    "            print('''\n",
    "                DOWN!!!!\n",
    "                ''')\n",
    "        elif input_Val > random_Val:\n",
    "            print('''\n",
    "                UP!!!!\n",
    "                ''')\n",
    "        elif input_Val == random_Val:\n",
    "            print(f'''\n",
    "                정답!!!!\\n\n",
    "                사용한 기회 : {count}\n",
    "                ''')\n",
    "            break\n",
    "        count += 1\n",
    "    except:\n",
    "        print('''\n",
    "              문자가 입력되었습니다.\n",
    "              ''')"
   ]
  },
  {
   "cell_type": "code",
   "execution_count": null,
   "metadata": {},
   "outputs": [],
   "source": []
  }
 ],
 "metadata": {
  "kernelspec": {
   "display_name": "Python 3.9.12 ('base')",
   "language": "python",
   "name": "python3"
  },
  "language_info": {
   "codemirror_mode": {
    "name": "ipython",
    "version": 3
   },
   "file_extension": ".py",
   "mimetype": "text/x-python",
   "name": "python",
   "nbconvert_exporter": "python",
   "pygments_lexer": "ipython3",
   "version": "3.9.12"
  },
  "orig_nbformat": 4,
  "vscode": {
   "interpreter": {
    "hash": "ad2bdc8ecc057115af97d19610ffacc2b4e99fae6737bb82f5d7fb13d2f2c186"
   }
  }
 },
 "nbformat": 4,
 "nbformat_minor": 2
}
