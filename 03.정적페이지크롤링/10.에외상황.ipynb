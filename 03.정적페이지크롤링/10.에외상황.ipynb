{
 "cells": [
  {
   "cell_type": "code",
   "execution_count": 45,
   "metadata": {},
   "outputs": [
    {
     "data": {
      "text/plain": [
       "\"\\n핫플 성수동 문화예술로 만나는 '성동 디자인위크' 열린다\\n\""
      ]
     },
     "execution_count": 45,
     "metadata": {},
     "output_type": "execute_result"
    }
   ],
   "source": [
    "import requests\n",
    "from bs4 import BeautifulSoup\n",
    "import urllib.request\n",
    "\n",
    "# header 옵션\n",
    "header = {\n",
    "    'User-Agent' : 'Mozila/5.0'\n",
    "}\n",
    "\n",
    "response = requests.get('https://n.news.naver.com/mnews/article/277/0005169230?sid=102', headers = header)\n",
    "      \n",
    "html = response.text\n",
    "soup = BeautifulSoup(html, 'html.parser')\n",
    "\n",
    "title = soup.select_one('.media_end_head_title').text\n",
    "title\n"
   ]
  },
  {
   "cell_type": "code",
   "execution_count": 46,
   "metadata": {},
   "outputs": [],
   "source": [
    "# Max retries exceed 에러\n",
    "# 너무 많은 요청을 보냄 -> 속도를 조절한다\n",
    "# time.sleep(2)"
   ]
  },
  {
   "cell_type": "code",
   "execution_count": 60,
   "metadata": {},
   "outputs": [
    {
     "name": "stdout",
     "output_type": "stream",
     "text": [
      "2의 싸이클은 20입니다.\n"
     ]
    }
   ],
   "source": [
    "a = int(input())\n",
    "e = 0\n",
    "f = a\n",
    "count = 1\n",
    "while a != e:\n",
    "    \n",
    "    if a == f:\n",
    "        e = a%10*10 + (a//10 + a%10)%10\n",
    "        f = e\n",
    "    if a != f:\n",
    "        e = f%10*10 + (f//10 + f%10)%10\n",
    "        f = e\n",
    "\n",
    "    count += 1\n",
    "    \n",
    "print(f'{a}의 싸이클은 {count}입니다.')\n",
    "\n",
    "# 26  ===>  4"
   ]
  },
  {
   "cell_type": "code",
   "execution_count": null,
   "metadata": {},
   "outputs": [],
   "source": []
  }
 ],
 "metadata": {
  "kernelspec": {
   "display_name": "Python 3.9.12 ('base')",
   "language": "python",
   "name": "python3"
  },
  "language_info": {
   "codemirror_mode": {
    "name": "ipython",
    "version": 3
   },
   "file_extension": ".py",
   "mimetype": "text/x-python",
   "name": "python",
   "nbconvert_exporter": "python",
   "pygments_lexer": "ipython3",
   "version": "3.9.12"
  },
  "orig_nbformat": 4,
  "vscode": {
   "interpreter": {
    "hash": "ad2bdc8ecc057115af97d19610ffacc2b4e99fae6737bb82f5d7fb13d2f2c186"
   }
  }
 },
 "nbformat": 4,
 "nbformat_minor": 2
}
