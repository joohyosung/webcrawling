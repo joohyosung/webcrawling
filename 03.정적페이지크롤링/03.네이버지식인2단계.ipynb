{
 "cells": [
  {
   "cell_type": "code",
   "execution_count": 29,
   "metadata": {},
   "outputs": [
    {
     "name": "stdout",
     "output_type": "stream",
     "text": [
      "1 내일 빼빼로 데이인데 어떡해할까요? https://kin.naver.com/qna/detail.naver?d1id=20&dirId=2001&docId=432409634&qb=67m867m866Gc642w7J20&enc=utf8§ion=kin&rank=1&search_sort=0&spq=1 2022.11.10. ... 내일이 빼빼로데이인데 빼빼로를 줘야 되나요? 저는 주고는 싶은데 차였는데... 내일이 빼빼로 데이여서 빼빼로를 줘야 하는지 어떻게 해야하는지 고민이 되는 것 같아요.... \n",
      "2 내일 빼빼로 데이인가요? https://kin.naver.com/qna/detail.naver?d1id=8&dirId=814&docId=432391571&qb=67m867m866Gc642w7J20&enc=utf8§ion=kin&rank=2&search_sort=0&spq=1 2022.11.10. 내일 빼빼로 데이인가요? 그렇습니다. 빼빼로 데이는 대한민국의 독특한 기념일로 11월 11일에 초콜릿 과자인 빼빼로를 주고받는 기념일입니다. \n",
      "3 빼빼로데이 https://kin.naver.com/qna/detail.naver?d1id=6&dirId=60218&docId=432103740&qb=67m867m866Gc642w7J20&enc=utf8§ion=kin&rank=3&search_sort=0&spq=1 2022.11.08. 이제 얼마안있으면 빼빼로데이잖아욥..! 그래서 제가 저희학년수학 맡아주시는 분이랑 저희반 담임선생님 빼빼로 드리려고하는데 법적으로 무슨 김영란 법인가? 그것때문에... \n",
      "4 짝남 빼빼로데이 https://kin.naver.com/qna/detail.naver?d1id=8&dirId=8020208&docId=431934340&qb=67m867m866Gc642w7J20&enc=utf8§ion=kin&rank=4&search_sort=0&spq=1 2022.11.04. 제가 얼마전에 생긴 짝남에게 빼빼로 데이에 빼빼로를 주고... 짝남 빼빼로데이 관련 답변드려용!! 약간 부담은... 않으면 빼빼로데이니까 절대 부담 안될 거 같은데요!! 음... \n",
      "5 빼빼로 데이는 마케팅으로 생겨났나요? https://kin.naver.com/qna/detail.naver?d1id=8&dirId=8020208&docId=431906562&qb=67m867m866Gc642w7J20&enc=utf8§ion=kin&rank=5&search_sort=0&spq=1 2022.11.06. 빼빼로 데이는 마케팅으로 생겨났나요? 1993년 계성여중이라고 하는 부산의 한 중학교에서 학생들끼리 하던 행사에서 시작하여 롯데제과가 발빠르게 조치한... \n",
      "6 빼빼로데이 여친선물 추천좀 해주세요 https://kin.naver.com/qna/detail.naver?d1id=8&dirId=8020208&docId=430852615&qb=67m867m866Gc642w7J20&enc=utf8§ion=kin&rank=6&search_sort=0&spq=1 2022.10.19. 마침 100일이 빼빼로 데이인데 여자친구 선물을 빼빼로랑 꽃 선물세트 있는데... 질문) 마침 100일이 빼빼로 데이인데 여자친구 선물을 빼빼로랑 꽃 선물세트 있는데... \n",
      "7 빼빼로데이 https://kin.naver.com/qna/detail.naver?d1id=8&dirId=8020208&docId=432382328&qb=67m867m866Gc642w7J20&enc=utf8§ion=kin&rank=7&search_sort=0&spq=1 2022.11.10. ... 내일 빼빼로데이니까 빼빼로를 드릴까 생각도 해봤는데..일단 선생님 나이가 40살이... 그리구 원래 빼빼로데이가 나라에서 정한날도 아니구 농업인의 날이잖아요??그래서... \n",
      "8 급합니다 빼빼로 데이 남사친에게 편지 https://kin.naver.com/qna/detail.naver?d1id=8&dirId=8020209&docId=432386594&qb=67m867m866Gc642w7J20&enc=utf8§ion=kin&rank=8&search_sort=0&spq=1 2022.11.10. ... 고백편지 아니구요 친한 남사친이 빼빼로 데이에 편지를 써달라는데 간단하게 쪽지만 써줄려고요 어떻게 써야할까요 제가 이성에게 쓰는 편지는 첨이라 구체적으로... \n",
      "9 빼빼로데이 https://kin.naver.com/qna/detail.naver?d1id=8&dirId=8020208&docId=431414363&qb=67m867m866Gc642w7J20&enc=utf8§ion=kin&rank=9&search_sort=0&spq=1 2022.10.31. 빼빼로데이에 빼빼로 40개이상 만들어야되는데 빼빼로 만들기키트 추천해주세욥! 빼빼로 막대과자를 40개정도 만들수 있는 키트가 있어서 정보 공유합니다~ 수제 초코... \n",
      "10 빼빼로 데이 김영란법 https://kin.naver.com/qna/detail.naver?d1id=6&dirId=60218&docId=432411813&qb=67m867m866Gc642w7J20&enc=utf8§ion=kin&rank=10&search_sort=0&spq=1 2022.11.10. 내일이 빼빼로 데이여서 선생님께 빼빼로를 드릴려고 하는데 김영란법에 걸리나요? 제가 알기로는 선물은 3만원 이하인 것 같은데.. 빼빼로 할인해서 600원에 샀는데 안 되는... \n"
     ]
    }
   ],
   "source": [
    "# 2단계\n",
    "# 1페이지 10개의 질문 제목, 링크, 날짜, 내용\n",
    "\n",
    "import requests as rq\n",
    "from bs4 import BeautifulSoup as bs\n",
    "\n",
    "response = rq.get('https://kin.naver.com/search/list.naver?query=%EB%B9%BC%EB%B9%BC%EB%A1%9C%EB%8D%B0%EC%9D%B4')\n",
    "\n",
    "html = response.text\n",
    "soup = bs(html, 'html.parser')\n",
    "# 질문 10개 가져오기\n",
    "questions = soup.select('.basic1 > li')\n",
    "\n",
    "for num, question in enumerate(questions, 1):\n",
    "      anchor = question.select_one('dt > a')\n",
    "      title = anchor.text\n",
    "      link = anchor.attrs['href']\n",
    "      date = question.select_one('.txt_inline').text\n",
    "      content = question.select_one('.txt_inline+dd').text\n",
    "      print(num, title, link, date, content)\n",
    "\n"
   ]
  },
  {
   "cell_type": "code",
   "execution_count": null,
   "metadata": {},
   "outputs": [],
   "source": []
  }
 ],
 "metadata": {
  "kernelspec": {
   "display_name": "Python 3.9.12 ('base')",
   "language": "python",
   "name": "python3"
  },
  "language_info": {
   "codemirror_mode": {
    "name": "ipython",
    "version": 3
   },
   "file_extension": ".py",
   "mimetype": "text/x-python",
   "name": "python",
   "nbconvert_exporter": "python",
   "pygments_lexer": "ipython3",
   "version": "3.9.12"
  },
  "orig_nbformat": 4,
  "vscode": {
   "interpreter": {
    "hash": "ad2bdc8ecc057115af97d19610ffacc2b4e99fae6737bb82f5d7fb13d2f2c186"
   }
  }
 },
 "nbformat": 4,
 "nbformat_minor": 2
}
