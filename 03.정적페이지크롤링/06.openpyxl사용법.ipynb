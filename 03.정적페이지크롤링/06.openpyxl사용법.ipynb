{
 "cells": [
  {
   "cell_type": "code",
   "execution_count": 5,
   "metadata": {},
   "outputs": [],
   "source": [
    "import openpyxl\n",
    "\n",
    "# 1. 엑셀 파일 생성\n",
    "wb = openpyxl.Workbook()\n",
    "wb\n",
    "\n",
    "# 2. 워크 시트 생성\n",
    "ws = wb.create_sheet('월드컵')\n",
    "ws\n",
    "\n",
    "# 3. 데이터 추가\n",
    "ws['A1'] = '선수번호'\n",
    "ws['B1'] = '선수이름'\n",
    "\n",
    "ws['A2'] = '7'\n",
    "ws['B2'] = '손흥민'\n",
    "\n",
    "# 4. 한 행 추가\n",
    "ws.append(['11','황희찬'])"
   ]
  },
  {
   "cell_type": "code",
   "execution_count": 6,
   "metadata": {},
   "outputs": [],
   "source": [
    "# 엑셀 저장\n",
    "wb.save('월드컵.xlsx')"
   ]
  },
  {
   "cell_type": "code",
   "execution_count": null,
   "metadata": {},
   "outputs": [],
   "source": []
  }
 ],
 "metadata": {
  "kernelspec": {
   "display_name": "Python 3.9.12 ('base')",
   "language": "python",
   "name": "python3"
  },
  "language_info": {
   "codemirror_mode": {
    "name": "ipython",
    "version": 3
   },
   "file_extension": ".py",
   "mimetype": "text/x-python",
   "name": "python",
   "nbconvert_exporter": "python",
   "pygments_lexer": "ipython3",
   "version": "3.9.12"
  },
  "orig_nbformat": 4,
  "vscode": {
   "interpreter": {
    "hash": "ad2bdc8ecc057115af97d19610ffacc2b4e99fae6737bb82f5d7fb13d2f2c186"
   }
  }
 },
 "nbformat": 4,
 "nbformat_minor": 2
}
