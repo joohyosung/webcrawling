{
 "cells": [
  {
   "cell_type": "code",
   "execution_count": 1,
   "metadata": {},
   "outputs": [],
   "source": [
    "import requests\n",
    "from bs4 import BeautifulSoup\n",
    "import urllib.request\n",
    "\n",
    "response = requests.get('https://search.naver.com/search.naver?where=news&sm=tab_jum&query=%EC%84%B1%EC%88%98%EC%97%AD+%EB%A7%9B%EC%A7%91')\n",
    "      \n",
    "html = response.text\n",
    "soup = BeautifulSoup(html, 'html.parser')\n",
    "\n",
    "# 기사 10개 가져오기\n",
    "articles = soup.select('.news_wrap')\n",
    "\n",
    "for i, article in enumerate(articles, 1):\n",
    "    img = article.select_one('.thumb.api_get')\n",
    "    img_src = img.attrs['src']\n",
    "    # 이미지 저장하기\n",
    "    urllib.request.urlretrieve(img_src, f'imgs/{i}.jpeg')"
   ]
  },
  {
   "cell_type": "code",
   "execution_count": null,
   "metadata": {},
   "outputs": [],
   "source": []
  }
 ],
 "metadata": {
  "kernelspec": {
   "display_name": "Python 3.9.12 ('base')",
   "language": "python",
   "name": "python3"
  },
  "language_info": {
   "codemirror_mode": {
    "name": "ipython",
    "version": 3
   },
   "file_extension": ".py",
   "mimetype": "text/x-python",
   "name": "python",
   "nbconvert_exporter": "python",
   "pygments_lexer": "ipython3",
   "version": "3.9.12"
  },
  "orig_nbformat": 4,
  "vscode": {
   "interpreter": {
    "hash": "ad2bdc8ecc057115af97d19610ffacc2b4e99fae6737bb82f5d7fb13d2f2c186"
   }
  }
 },
 "nbformat": 4,
 "nbformat_minor": 2
}
