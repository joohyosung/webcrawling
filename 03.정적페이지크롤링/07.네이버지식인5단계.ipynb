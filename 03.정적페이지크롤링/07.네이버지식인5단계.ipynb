{
 "cells": [
  {
   "cell_type": "code",
   "execution_count": 1,
   "metadata": {},
   "outputs": [
    {
     "name": "stdout",
     "output_type": "stream",
     "text": [
      "--------1번째 페이지 크롤링중--------\n",
      "1 월드컵 질문 https://kin.naver.com/qna/detail.naver?d1id=10&dirId=10010101&docId=428999769&qb=7JuU65Oc7Lu1&enc=utf8§ion=kin&rank=1&search_sort=0&spq=0 2022.09.24. 손흥민 이번 카타르월드컵이 마지막 월드컵 일까요? 나이고려하면 정말 몸관리 잘하고... 이번 월드컵 이후 나중에 얼마나 기량 유지를 하느냐에 따라 나오고 못나오고가 갈릴... \n",
      "2 cgv에서 카타르 월드컵 생중계 하는 https://kin.naver.com/qna/detail.naver?d1id=10&dirId=10010101&docId=431872806&qb=7JuU65Oc7Lu1&enc=utf8§ion=kin&rank=2&search_sort=0&spq=0 2022.11.03. cgv에서 카타르 월드컵 생중계 하는거 예매하고 싶은데 이미 끝났나요..?... 카카오쇼핑라이브에선 미리 할인혜택을 제공한 것이고 월드컵 개막이 임박하면 다시 생중계... \n",
      "3 러시아월드컵 프랑스 설레발 https://kin.naver.com/qna/detail.naver?d1id=10&dirId=10010101&docId=431461346&qb=7JuU65Oc7Lu1&enc=utf8§ion=kin&rank=3&search_sort=0&spq=0 2022.10.28. 러시아월드컵때 프랑스는 우승한다고 설레발을 그렁게... 2018년 러시아 월드컵 당시, 프랑스 경기력이 실제 좋았습니다. 곧 카타르 월드컵도 마찬가지라 봅니다. 지금까지... \n",
      "4 월드컵 명단 소집 김신욱,백승호 https://kin.naver.com/qna/detail.naver?d1id=10&dirId=10010101&docId=431157247&qb=7JuU65Oc7Lu1&enc=utf8§ion=kin&rank=4&search_sort=0&spq=0 2022.10.24. 카타르 월드컵 대표팀 명단 소집에 뭔가 김신욱,백승호 선수 트릭으로 뽑힐 거 같아요... 김신욱은 월드컵 명단 발탁이 굉장히 희박할 것 같고, 백승호는 발탁될 가능성이 충분히... \n",
      "5 2022 카타르월드컵일정 선수명단 https://kin.naver.com/qna/detail.naver?d1id=10&dirId=10010101&docId=432303591&qb=7JuU65Oc7Lu1&enc=utf8§ion=kin&rank=5&search_sort=0&spq=0 2022.11.09. ... 우리나라 월드컵완전히나오기로한 선수명단 2.... 12일에 월드컵 최종명단을 발표합니다 지금 손흥민이... 없다면 월드컵 최종명단에 들 것으로 예상됩니다 https... \n",
      "6 카타르 월드컵 https://kin.naver.com/qna/detail.naver?d1id=11&dirId=110811&docId=431678887&qb=7JuU65Oc7Lu1&enc=utf8§ion=kin&rank=6&search_sort=0&spq=0 2022.10.31. 이번 카타르 월드컵때 대략 5주정도 카타르에 체류하는데 이 정도 기간동안 쓸 유심은... 카타르 월드컵 이번 카타르 월드컵때 대략 5주정도 카타르에 체류하는데 이 정도... \n",
      "7 국가대표에게 월드컵이란? https://kin.naver.com/qna/detail.naver?d1id=10&dirId=10010101&docId=432233892&qb=7JuU65Oc7Lu1&enc=utf8§ion=kin&rank=7&search_sort=0&spq=0 2022.11.08. 그냥 단순히 생각해보면 월드컵에서 뛰는거 보다 자기... 단순히 월드컵이 세계인의 꿈의 축제라는 이유인지 아니면 월드컵에서 준수한 성적을 거두면 돈이 지급되는지... \n",
      "8 2022카타르월드컵 모바일 https://kin.naver.com/qna/detail.naver?d1id=10&dirId=10010101&docId=428609716&qb=7JuU65Oc7Lu1&enc=utf8§ion=kin&rank=8&search_sort=0&spq=0 2022.09.18. 안녕하세요 이번2022카타르월드컵 관련해 질문드립니다 이번에 지상파3사 sbs . Kbs mbc... 이번 월드컵 네이버나 spotv 등 모바일로 도 월드컵 중계 볼수있을까요? 4년전... \n",
      "9 서울월드컵경기장 https://kin.naver.com/qna/detail.naver?d1id=5&dirId=51002&docId=420557886&qb=7JuU65Oc7Lu1&enc=utf8§ion=kin&rank=9&search_sort=0&spq=0 2022.05.29. 서울월드컵 경기장 3등석 N-J 구역 50열 시야 어떤가요 ?? ㅠㅠ 잘 보일까요 ●서울월드컵 경기장 3등석 N-J 구역 50열은 거리감이 있지만 시야각은 좋습니다. 전광판도 자주... \n",
      "10 카타르월드컵개막전 D-Day 13일 ㅡㅡ https://kin.naver.com/qna/detail.naver?d1id=10&dirId=10010101&docId=432226500&qb=7JuU65Oc7Lu1&enc=utf8§ion=kin&rank=10&search_sort=0&spq=0 2022.11.08. 카타르월드컵개막전 D-Day 13일 ㅡㅡ 시간존나안가네 월드컵경기볼라고... 너무힘들네 다른 월드컵에 비해서 늦긴했죠ㅠ 손흥민선수 제발 잘회복되길 바랄뿐입니다 \n",
      "--------2번째 페이지 크롤링중--------\n",
      "1 월드컵 승부예측 https://kin.naver.com/qna/detail.naver?d1id=10&dirId=1001010201&docId=432165643&qb=7JuU65Oc7Lu1&enc=utf8§ion=kin&rank=11&search_sort=0&spq=0 2022.11.07. 2018년 월드컵도 네이버에서 승부예측했는데 이번에도 하나요? 22-23시즌 프리미어리그 승부예측, 챔피언스리그 승부예측도 하고 있으니 당여니 2022 월드컵... \n",
      "2 월드컵중계 kbs중계 다른나라 https://kin.naver.com/qna/detail.naver?d1id=10&dirId=10010101&docId=432382705&qb=7JuU65Oc7Lu1&enc=utf8§ion=kin&rank=12&search_sort=0&spq=0 2022.11.10. 월드컵중계 집에 kbs2 7번 방송만 나오는데 우리나라경기는 다 방송하겠지만... 아뇨 나라별로 자사 스포츠 채널에서 중계가 가능할거에요 밑에 카타르 월드컵 경기 일정... \n",
      "3 수원월드컵경기장에서 수원역가는 버스 https://kin.naver.com/qna/detail.naver?d1id=8&dirId=81201&docId=421391464&qb=7JuU65Oc7Lu1&enc=utf8§ion=kin&rank=13&search_sort=0&spq=0 2022.06.10. 안녕하세요 수원 월드컵경기장에서 수원역으로 가는... 수원월드컵경기장.아름학교 정류장이나 효성초등학교... 수원월드컵경기장.아름학교 정류장 기준으로 13-4번... \n",
      "4 카타르 월드컵 https://kin.naver.com/qna/detail.naver?d1id=10&dirId=10010101&docId=431835377&qb=7JuU65Oc7Lu1&enc=utf8§ion=kin&rank=14&search_sort=0&spq=0 2022.11.02. ... 예선에서 탈락하면 그 나라는 월드컵 진출을 못하나요? Q4.... 월드컵 우승국은 몇 번정도 경기를 하나요? Q7. 월드컵은 총 몇 번의 경기를 하나요? Q8. 일본과 만날 경우가... \n",
      "5 월드컵 질문 https://kin.naver.com/qna/detail.naver?d1id=10&dirId=10010101&docId=432111250&qb=7JuU65Oc7Lu1&enc=utf8§ion=kin&rank=15&search_sort=0&spq=0 2022.11.07. 월드컵 창시자분 이름이 쥘 리메인가요? 줄 리메인가요?  둘 다 맞습니다~ 초기 월드컵 개최(1930년) 당시 피파 회장이었던 프랑스의 줄리메가 월드컵 직전 사유재산으로 이... \n",
      "6 서울 월드컵 경기장 근처 놀곳 https://kin.naver.com/qna/detail.naver?d1id=12&dirId=1201&docId=421941942&qb=7JuU65Oc7Lu1&enc=utf8§ion=kin&rank=16&search_sort=0&spq=0 2022.06.17. 월드컵 경기장으로 축구 보러 갈껀데 근처나 아님 조금 떨어진곳에 놀만한곳 있나요?? 월드컵 경기장 경기장안에... 있음 월드컵경기장 근처 사는 사람들은 대부분 홍대나... \n",
      "7 제주도 월드컵 경기장 버스 https://kin.naver.com/qna/detail.naver?d1id=13&dirId=130707&docId=416142339&qb=7JuU65Oc7Lu1&enc=utf8§ion=kin&rank=17&search_sort=0&spq=0 2022.04.01. 월드컵 경기장 버스 제일 처음에 오는거 몇번인가요? 7시에 버스 운행해요?... - 제주로터리(동) 출발 기준 양가왓 경유 제주월드컵경기장과 제주월드컵경기장서문에서 하차가... \n",
      "8 2022 카타르 월드컵 https://kin.naver.com/qna/detail.naver?d1id=10&dirId=10010101&docId=431638676&qb=7JuU65Oc7Lu1&enc=utf8§ion=kin&rank=18&search_sort=0&spq=0 2022.10.31. 올해 카타르 월드컵이 왜 겨울에서 열리는지 모르는 사람이 왤케 많을까요?  카타르라는 지역이 월드컵 개최지역으로 선정 되었는데요 카타르는 엄청 더운 중동지역의... \n",
      "9 동계올림픽, 하계올림픽, 월드컵 개최지 https://kin.naver.com/qna/detail.naver?d1id=10&dirId=100601&docId=405937304&qb=7JuU65Oc7Lu1&enc=utf8§ion=kin&rank=19&search_sort=0&spq=0 2021.11.26. 앞으로 하게 될 올림픽, 월드컵 유치 결정된 곳 다 알려주세요. 2022년 카타르월드컵, 2022년... ------ 월드컵 22회 카타르 2022.11.21. ~ 12.18. ---- 제23회 북중미... \n",
      "10 월드컵 조추첨은 언제 하나요?? https://kin.naver.com/qna/detail.naver?d1id=10&dirId=10010101&docId=411352755&qb=7JuU65Oc7Lu1&enc=utf8§ion=kin&rank=20&search_sort=0&spq=0 2022.02.04. 월드컵 조추첨은 언제 하나요?? 안녕하세요 MACHAM입니다. 월드컵 문의해주셨네요 답변 4월3일 월드컵 조추첨입니다. 깨끗하고 거짓 없는 지식iN 지식인 모두가 함께 만들어... \n",
      "--------3번째 페이지 크롤링중--------\n",
      "1 카타르 월드컵 바뀐 규칙 https://kin.naver.com/qna/detail.naver?d1id=10&dirId=10010101&docId=428708801&qb=7JuU65Oc7Lu1&enc=utf8§ion=kin&rank=21&search_sort=0&spq=0 2022.09.20. 카타르 월드컵 바뀐 경기 규칙 전부 다 설명해주세요  카타르 월드컵 바뀐 경기규칙 없습니다. 즐거운 하루 되세요.\n",
      "2 2022 카타르 월드컵 한국 일정 어떻게...  https://kin.naver.com/qna/detail.naver?d1id=10&dirId=10010101&docId=431975743&qb=7JuU65Oc7Lu1&enc=utf8§ion=kin&rank=22&search_sort=0&spq=0 2022.11.04. 2022 카타르 월드컵 한국 일정 어떻게 되나요? 월드컵 일정 알려주세요  [질문] 2022 카타르 월드컵 한국 일정 어떻게 되나요? 월드컵 일정 알려주세요 [답변] 2022... \n",
      "3 안정환 선수 월드컵 https://kin.naver.com/qna/detail.naver?d1id=10&dirId=10010101&docId=427277405&qb=7JuU65Oc7Lu1&enc=utf8§ion=kin&rank=23&search_sort=0&spq=0 2022.08.30. 어느 경기 월드컵에서 골 넣었는지 알려주세요 2002 한/일 월드컵 조별예선 2차전 대한민국 1 vs 1 미국 (안정환 헤더 동점 골) 2002 한/일 월드컵 16강전 대한민국 2 vs 1... \n",
      "4 네이마르 월드컵 https://kin.naver.com/qna/detail.naver?d1id=10&dirId=10010101&docId=431435618&qb=7JuU65Oc7Lu1&enc=utf8§ion=kin&rank=24&search_sort=0&spq=0 2022.10.28. 네이마르 월드컵이 카타르가 마지막이나요?  나이적으로 충분히, 2026년북중미 월드컵까진 부상만 없다면, 국가대표로 출전 가능한 나이입니다.\n",
      "5 라모스는 카타르 월드컵에 출전 하나요? https://kin.naver.com/qna/detail.naver?d1id=10&dirId=10010101&docId=431959825&qb=7JuU65Oc7Lu1&enc=utf8§ion=kin&rank=25&search_sort=0&spq=0 2022.11.04. 현재 라모스가 카타르 월드컵에 출전 하는지 모르는데 월드컵에 출전 하나요?  대체로 안... 예비명단을 발탁해도 월드컵 진출 명단엔 넣지 않을거란 의견이 꽤 있는 것 같네요.\n",
      "6 카타르 월드컵 한국 유니폼 https://kin.naver.com/qna/detail.naver?d1id=10&dirId=10010101&docId=419626327&qb=7JuU65Oc7Lu1&enc=utf8§ion=kin&rank=26&search_sort=0&spq=0 2022.05.17. 국대 유니폼 이번 월드컵때 바뀌나요? 월드컵 앞두고 항상 새로운 디자인의 유니폼이 나왔습니다. 이번 카타르월드컵도 새 유니폼이 나올 것입니다. \n",
      "7 이강인 이번 카타르 월드컵 안 뛰나요 https://kin.naver.com/qna/detail.naver?d1id=10&dirId=100101&docId=429326086&qb=7JuU65Oc7Lu1&enc=utf8§ion=kin&rank=27&search_sort=0&spq=0 2022.09.28. 이강인 이번 카타르 월드컵 안 뛰나요? 어제가 월드컵전 마지막평가전인데 1분도... 상당히 높아보이긴하네요 월드컵 엔트리는 26명이니 아직가능성이 없는건 아닙니다 \n",
      "8 영국이 왜 월드컵에 안나오는이유 https://kin.naver.com/qna/detail.naver?d1id=10&dirId=10010101&docId=431797883&qb=7JuU65Oc7Lu1&enc=utf8§ion=kin&rank=28&search_sort=0&spq=0 2022.11.02. 제목 그대로입니다. 영국이 축구 강국인데 왜 월드컵에 안 나오는 이유는 궁금합니다. 월드컵엔 영국단일팀으로 나갈 수가 없기 때문입니다 4개의 나라로 나뉘어져 있거든요 \n",
      "9 서울월드컵경기장 1등석A E-F구역 22열 https://kin.naver.com/qna/detail.naver?d1id=5&dirId=51002&docId=421996885&qb=7JuU65Oc7Lu1&enc=utf8§ion=kin&rank=29&search_sort=0&spq=0 2022.06.18. ㅈㄱㄴ 서울월드컵경기장 1등석A E-F구역 22열 혹시 직관해보셨던 분 계실까요? 선수들 잘 보일까요? ●서울월드컵경기장 1등석A E-F구역 22열은 1등석으로 하프라인을... \n",
      "10 아시안게임, 월드컵 https://kin.naver.com/qna/detail.naver?d1id=10&dirId=1006&docId=412125770&qb=7JuU65Oc7Lu1&enc=utf8§ion=kin&rank=30&search_sort=0&spq=0 2022.02.13. ... 나와있고 월드컵도 검색해보니까 11월달에 한다고 나와있는데 원래 하계, 동계, 아시안, 월드컵이 4년마다... 원래 동계 올림픽,하계 아시안 게임,월드컵 축구가 모두 같은... \n"
     ]
    }
   ],
   "source": [
    "# 5단계\n",
    "# 1페이지 10개의 질문 제목, 링크, 날짜, 내용\n",
    "\n",
    "import requests as rq\n",
    "from bs4 import BeautifulSoup as bs\n",
    "import openpyxl\n",
    "\n",
    "keyword = input('키워드를 입력하시오.')\n",
    "page = int(input('페이지를 입력하시오:'))\n",
    "\n",
    "wb = openpyxl.Workbook()\n",
    "ws = wb.active # 활성화된 시트 선택\n",
    "ws.title = keyword # 시트 이름 변경\n",
    "\n",
    "ws.append(['제목', '링크', '날짜', '내용'])\n",
    "\n",
    "i = 1\n",
    "while i <= page:\n",
    "      print(f'--------{i}번째 페이지 크롤링중--------')\n",
    "      response = rq.get(f\"https://kin.naver.com/search/list.naver?query={keyword}&page={i}\")\n",
    "\n",
    "      html = response.text\n",
    "      soup = bs(html, 'html.parser')\n",
    "      # 질문 10개 가져오기\n",
    "      question = soup.select('.basic1 > li')\n",
    "      \n",
    "      for num, question in enumerate(question, 1):\n",
    "            anchor = question.select_one('dt > a')\n",
    "            title = anchor.text\n",
    "            link = anchor.attrs['href']\n",
    "            date = question.select_one('.txt_inline').text\n",
    "            content = question.select_one('.txt_inline+dd').text\n",
    "            print(num, title, link, date, content)\n",
    "            ws.append([title, link, date, content])\n",
    "\n",
    "      i += 1\n",
    "\n",
    "wb.save(f'{keyword}.xlsx')"
   ]
  },
  {
   "cell_type": "code",
   "execution_count": null,
   "metadata": {},
   "outputs": [],
   "source": []
  }
 ],
 "metadata": {
  "kernelspec": {
   "display_name": "Python 3.9.12 ('base')",
   "language": "python",
   "name": "python3"
  },
  "language_info": {
   "codemirror_mode": {
    "name": "ipython",
    "version": 3
   },
   "file_extension": ".py",
   "mimetype": "text/x-python",
   "name": "python",
   "nbconvert_exporter": "python",
   "pygments_lexer": "ipython3",
   "version": "3.9.12"
  },
  "orig_nbformat": 4,
  "vscode": {
   "interpreter": {
    "hash": "ad2bdc8ecc057115af97d19610ffacc2b4e99fae6737bb82f5d7fb13d2f2c186"
   }
  }
 },
 "nbformat": 4,
 "nbformat_minor": 2
}
