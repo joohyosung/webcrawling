{
 "cells": [
  {
   "cell_type": "code",
   "execution_count": 53,
   "metadata": {},
   "outputs": [
    {
     "name": "stdout",
     "output_type": "stream",
     "text": [
      "\n",
      "      내일 빼빼로 데이인데 어떡해할까요?\n",
      "\n",
      "      https://kin.naver.com/qna/detail.naver?d1id=20&dirId=2001&docId=432409634&qb=67m867m866Gc642w7J20&enc=utf8§ion=kin&rank=1&search_sort=0&spq=1\n",
      "   \n",
      "      2022.11.10.\n",
      "\n",
      "      ... 내일이 빼빼로데이인데 빼빼로를 줘야 되나요? 저는 주고는 싶은데 차였는데... 내일이 빼빼로 데이여서 빼빼로를 줘야 하는지 어떻게 해야하는지 고민이 되는 것 같아요.... \n",
      "\n",
      "      \n"
     ]
    }
   ],
   "source": [
    "# 1단계\n",
    "# 첫번째 질문의 제목, 링크, 날짜, 내용\n",
    "\n",
    "import requests as rq\n",
    "from bs4 import BeautifulSoup as bs\n",
    "\n",
    "response = rq.get('https://kin.naver.com/search/list.naver?query=%EB%B9%BC%EB%B9%BC%EB%A1%9C%EB%8D%B0%EC%9D%B4')\n",
    "\n",
    "html = response.text\n",
    "soup = bs(html, 'html.parser')\n",
    "\n",
    "anchor = soup.select_one('''\n",
    "                          ._searchListTitleAnchor[href]\n",
    "                          ''')\n",
    "\n",
    "title = anchor.text\n",
    "\n",
    "link = anchor.attrs['href']\n",
    "\n",
    "date = soup.select_one('.txt_inline').text\n",
    "\n",
    "content = soup.select_one('.txt_inline+dd').text  # dl > dd:nth-of-type(2)\n",
    "\n",
    "print('''\n",
    "      {}\\n\n",
    "      {}\\n   \n",
    "      {}\\n\n",
    "      {}\\n\n",
    "      '''\n",
    "      .format(title,link,date,content)\n",
    "      )"
   ]
  },
  {
   "cell_type": "code",
   "execution_count": null,
   "metadata": {},
   "outputs": [],
   "source": []
  }
 ],
 "metadata": {
  "kernelspec": {
   "display_name": "Python 3.9.12 ('base')",
   "language": "python",
   "name": "python3"
  },
  "language_info": {
   "codemirror_mode": {
    "name": "ipython",
    "version": 3
   },
   "file_extension": ".py",
   "mimetype": "text/x-python",
   "name": "python",
   "nbconvert_exporter": "python",
   "pygments_lexer": "ipython3",
   "version": "3.9.12"
  },
  "orig_nbformat": 4,
  "vscode": {
   "interpreter": {
    "hash": "ad2bdc8ecc057115af97d19610ffacc2b4e99fae6737bb82f5d7fb13d2f2c186"
   }
  }
 },
 "nbformat": 4,
 "nbformat_minor": 2
}
