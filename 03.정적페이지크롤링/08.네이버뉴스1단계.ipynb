{
 "cells": [
  {
   "cell_type": "code",
   "execution_count": 33,
   "metadata": {},
   "outputs": [],
   "source": [
    "# 1단계\n",
    "# 1페이지 10개의 기사 제목, 링크, 내용\n",
    "\n",
    "import requests\n",
    "from bs4 import BeautifulSoup\n",
    "import openpyxl\n",
    "\n",
    "keyword = input('키워드를 입력하시오.')\n",
    "page = int(input('페이지를 입력하시오:'))\n",
    "\n",
    "wb = openpyxl.Workbook()\n",
    "ws = wb.active\n",
    "ws.title = keyword # 시트 이름 변경\n",
    "\n",
    "ws.append(['제목', '링크', '내용'])\n",
    "\n",
    "i = 0\n",
    "while i <= page:\n",
    "      response = requests.get(f'https://search.naver.com/search.naver?where=news&sm=tab_pge&query={keyword}&sort=0&photo=0&field=0&pd=0&ds=&de=&cluster_rank=79&mynews=0&office_type=0&office_section_code=0&news_office_checked=&nso=so:r,p:all,a:all&start={i}1')\n",
    "      \n",
    "      html = response.text\n",
    "      soup = BeautifulSoup(html, 'html.parser')\n",
    "      \n",
    "      articles = soup.select('.news_area')\n",
    "      \n",
    "      for article in articles:\n",
    "            anchor = article.select_one('.news_tit')\n",
    "            title = anchor.text\n",
    "            link = anchor.attrs['href']\n",
    "            \n",
    "            content = article.select_one('.api_txt_lines.dsc_txt_wrap').text\n",
    "            ws.append([title, link, content])\n",
    "      i += 1\n",
    "\n",
    "wb.save(f'{keyword}.xlsx')"
   ]
  },
  {
   "cell_type": "code",
   "execution_count": 36,
   "metadata": {},
   "outputs": [],
   "source": [
    "# 엑셀 불러와서 새로운 시트에 누적 저장\n",
    "\n",
    "import requests\n",
    "from bs4 import BeautifulSoup\n",
    "import openpyxl\n",
    "\n",
    "keyword = input('키워드를 입력하시오.')\n",
    "page = int(input('페이지를 입력하시오:'))\n",
    "\n",
    "wb = openpyxl.load_workbook('네이버뉴스크롤링.xlsx')\n",
    "ws = wb.create_sheet(keyword)\n",
    "\n",
    "ws.append(['제목', '링크', '내용'])\n",
    "\n",
    "i = 0\n",
    "while i <= page:\n",
    "      response = requests.get(f'https://search.naver.com/search.naver?where=news&sm=tab_pge&query={keyword}&sort=0&photo=0&field=0&pd=0&ds=&de=&cluster_rank=79&mynews=0&office_type=0&office_section_code=0&news_office_checked=&nso=so:r,p:all,a:all&start={i}1')\n",
    "      \n",
    "      html = response.text\n",
    "      soup = BeautifulSoup(html, 'html.parser')\n",
    "      \n",
    "      articles = soup.select('.news_area')\n",
    "      \n",
    "      for article in articles:\n",
    "            anchor = article.select_one('.news_tit')\n",
    "            title = anchor.text\n",
    "            link = anchor.attrs['href']\n",
    "            \n",
    "            content = article.select_one('.api_txt_lines.dsc_txt_wrap').text\n",
    "            ws.append([title, link, content])\n",
    "      i += 1\n",
    "\n",
    "wb.save('네이버뉴스크롤링.xlsx')"
   ]
  },
  {
   "cell_type": "code",
   "execution_count": null,
   "metadata": {},
   "outputs": [],
   "source": []
  }
 ],
 "metadata": {
  "kernelspec": {
   "display_name": "Python 3.9.12 ('base')",
   "language": "python",
   "name": "python3"
  },
  "language_info": {
   "codemirror_mode": {
    "name": "ipython",
    "version": 3
   },
   "file_extension": ".py",
   "mimetype": "text/x-python",
   "name": "python",
   "nbconvert_exporter": "python",
   "pygments_lexer": "ipython3",
   "version": "3.9.12"
  },
  "orig_nbformat": 4,
  "vscode": {
   "interpreter": {
    "hash": "ad2bdc8ecc057115af97d19610ffacc2b4e99fae6737bb82f5d7fb13d2f2c186"
   }
  }
 },
 "nbformat": 4,
 "nbformat_minor": 2
}
