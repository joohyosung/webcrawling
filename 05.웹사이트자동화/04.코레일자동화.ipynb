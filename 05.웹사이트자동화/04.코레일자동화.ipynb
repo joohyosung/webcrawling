{
 "cells": [
  {
   "cell_type": "code",
   "execution_count": 13,
   "metadata": {},
   "outputs": [
    {
     "name": "stderr",
     "output_type": "stream",
     "text": [
      "C:\\Users\\startcoding\\AppData\\Local\\Temp\\ipykernel_6712\\2509575879.py:7: DeprecationWarning: executable_path has been deprecated, please pass in a Service object\n",
      "  driver = webdriver.Chrome(\"c://chromedriver.exe\")\n"
     ]
    }
   ],
   "source": [
    "from selenium import webdriver\n",
    "from selenium.webdriver.common.by import By\n",
    "from selenium.webdriver.common.keys import Keys\n",
    "from selenium.webdriver.support.ui import Select\n",
    "import time\n",
    "\n",
    "driver = webdriver.Chrome(\"c://chromedriver.exe\")\n",
    "driver.get(\"https://www.letskorail.com/\")\n",
    "\n",
    "# 출발역\n",
    "start = driver.find_element(By.CSS_SELECTOR, \"#txtGoStart\")\n",
    "start.clear() # 입력창 비우기\n",
    "start.send_keys(\"대전\")\n",
    "time.sleep(1)\n",
    "\n",
    "# 도착역\n",
    "end = driver.find_element(By.CSS_SELECTOR, \"#txtGoEnd\")\n",
    "end.clear()\n",
    "end.send_keys(\"부산\")\n",
    "time.sleep(1)"
   ]
  },
  {
   "cell_type": "code",
   "execution_count": 14,
   "metadata": {},
   "outputs": [],
   "source": [
    "# 시간\n",
    "s_box = Select(driver.find_element(By.CSS_SELECTOR, \"#time\"))\n",
    "s_box.select_by_value(\"08\")\n",
    "time.sleep(1)\n",
    "\n",
    "# 인원\n",
    "p_box = Select(driver.find_element(By.CSS_SELECTOR, \"#people_num\"))\n",
    "p_box.select_by_value(\"3\")\n",
    "time.sleep(1)"
   ]
  },
  {
   "cell_type": "code",
   "execution_count": 15,
   "metadata": {},
   "outputs": [],
   "source": [
    "# 출발일\n",
    "# readonly 속성을 자바스크립트 제거\n",
    "driver.execute_script('document.querySelector(\"#selGoStartDay\").removeAttribute(\"readonly\")')\n",
    "start_day = driver.find_element(By.CSS_SELECTOR, \"#selGoStartDay\")\n",
    "start_day.clear()\n",
    "time.sleep(1)\n",
    "start_day.send_keys(\"2022.11.15\")\n",
    "time.sleep(1)"
   ]
  },
  {
   "cell_type": "code",
   "execution_count": 16,
   "metadata": {},
   "outputs": [],
   "source": [
    "# 예매 버튼\n",
    "driver.find_element(By.CSS_SELECTOR, '#res_cont_tab01 > form > div > fieldset > p > a > img').click()"
   ]
  }
 ],
 "metadata": {
  "kernelspec": {
   "display_name": "Python 3.10.6 64-bit",
   "language": "python",
   "name": "python3"
  },
  "language_info": {
   "codemirror_mode": {
    "name": "ipython",
    "version": 3
   },
   "file_extension": ".py",
   "mimetype": "text/x-python",
   "name": "python",
   "nbconvert_exporter": "python",
   "pygments_lexer": "ipython3",
   "version": "3.10.6"
  },
  "orig_nbformat": 4,
  "vscode": {
   "interpreter": {
    "hash": "200fa5d0b2981d58b1f27a61a10a35692b9d56d91ef977d0357ac52583da061d"
   }
  }
 },
 "nbformat": 4,
 "nbformat_minor": 2
}
