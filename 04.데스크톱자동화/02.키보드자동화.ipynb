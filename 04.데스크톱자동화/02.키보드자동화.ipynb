{
 "cells": [
  {
   "cell_type": "code",
   "execution_count": 9,
   "metadata": {},
   "outputs": [],
   "source": [
    "import pyautogui\n",
    "import time\n",
    "import pyperclip\n",
    "# 1.키보드 입력 (문자)\n",
    "pyperclip.copy('아무거나 입력해보아아아아아아아아')\n",
    "pyautogui.moveTo(43, 550, 2)\n",
    "pyautogui.click()\n",
    "pyautogui.hotkey('ctrl', 'v')\n",
    "pyautogui.write('Hello', interval = 1)\n",
    "# 2. 키보드 입력 (키)\n",
    "pyautogui.press('hangul')\n",
    "pyautogui.press('enter')\n",
    "pyautogui.write('dkssudgktpdy', interval = 0.5)"
   ]
  },
  {
   "cell_type": "code",
   "execution_count": null,
   "metadata": {},
   "outputs": [],
   "source": []
  }
 ],
 "metadata": {
  "kernelspec": {
   "display_name": "Python 3.9.12 ('base')",
   "language": "python",
   "name": "python3"
  },
  "language_info": {
   "codemirror_mode": {
    "name": "ipython",
    "version": 3
   },
   "file_extension": ".py",
   "mimetype": "text/x-python",
   "name": "python",
   "nbconvert_exporter": "python",
   "pygments_lexer": "ipython3",
   "version": "3.9.12"
  },
  "orig_nbformat": 4,
  "vscode": {
   "interpreter": {
    "hash": "ad2bdc8ecc057115af97d19610ffacc2b4e99fae6737bb82f5d7fb13d2f2c186"
   }
  }
 },
 "nbformat": 4,
 "nbformat_minor": 2
}
